{
  "nbformat": 4,
  "nbformat_minor": 0,
  "metadata": {
    "colab": {
      "provenance": []
    },
    "kernelspec": {
      "name": "python3",
      "display_name": "Python 3"
    },
    "language_info": {
      "name": "python"
    }
  },
  "cells": [
    {
      "cell_type": "markdown",
      "source": [
        "## Question1\n",
        "Create a function that takes three parameters where:\n",
        "•\tx is the start of the range (inclusive).\n",
        "•\ty is the end of the range (inclusive).\n",
        "•\tn is the divisor to be checked against.\n",
        "\n",
        "Return an ordered list with numbers in the range that are divisible by the third parameter n. Return an empty list if there are no numbers that are divisible by n.\n",
        "\n",
        "Examples\n",
        "```\n",
        "list_operation(1, 10, 3) ➞ [3, 6, 9]\n",
        "\n",
        "list_operation(7, 9, 2) ➞ [8]\n",
        "\n",
        "list_operation(15, 20, 7) ➞ []\n",
        "```"
      ],
      "metadata": {
        "id": "uEx9Jcxpi6yq"
      }
    },
    {
      "cell_type": "code",
      "execution_count": 1,
      "metadata": {
        "colab": {
          "base_uri": "https://localhost:8080/"
        },
        "id": "HHXHLzEki0vF",
        "outputId": "506fbbe7-4815-466f-8d50-eb7114dfb5c6"
      },
      "outputs": [
        {
          "output_type": "stream",
          "name": "stdout",
          "text": [
            "[3, 6, 9]\n",
            "[8]\n",
            "[]\n"
          ]
        }
      ],
      "source": [
        "def list_operation(x, y, n):\n",
        "    divisible = []\n",
        "    for num in range(x, y+1):\n",
        "        if num % n == 0:\n",
        "            divisible.append(num)\n",
        "    return divisible\n",
        "\n",
        "print(list_operation(1, 10, 3)) # Output: [3, 6, 9]\n",
        "print(list_operation(7, 9, 2)) # Output: [8]\n",
        "print(list_operation(15, 20, 7)) # Output: []\n"
      ]
    },
    {
      "cell_type": "markdown",
      "source": [
        "## Question2\n",
        "\n",
        "Create a function that takes in two lists and returns True if the second list follows the first list by one element, and False otherwise. In other words, determine if the second list is the first list shifted to the right by 1.\n",
        "\n",
        "Examples\n",
        "```\n",
        "simon_says([1, 2], [5, 1]) ➞ True\n",
        "\n",
        "simon_says([1, 2], [5, 5]) ➞ False\n",
        "\n",
        "simon_says([1, 2, 3, 4, 5], [0, 1, 2, 3, 4]) ➞ True\n",
        "\n",
        "simon_says([1, 2, 3, 4, 5], [5, 5, 1, 2, 3]) ➞ False\n",
        "```\n",
        "Notes\n",
        "\n",
        "- Both input lists will be of the same length, and will have a minimum length of \n",
        "- The values of the 0-indexed element in the second list and the n-1th indexed element in the first list do not matter.\n"
      ],
      "metadata": {
        "id": "LIuSRLvgjEWb"
      }
    },
    {
      "cell_type": "code",
      "source": [
        "def simon_says(lst1, lst2):\n",
        "  return lst1[:-1] == lst2[1:]\n",
        "\n",
        "\n",
        "print(simon_says([1, 2], [5, 1])) # True\n",
        "print(simon_says([1, 2], [5, 5])) # False\n",
        "print(simon_says([1, 2, 3, 4, 5], [0, 1, 2, 3, 4])) # True\n",
        "print(simon_says([1, 2, 3, 4, 5], [5, 5, 1, 2, 3])) # False"
      ],
      "metadata": {
        "colab": {
          "base_uri": "https://localhost:8080/"
        },
        "id": "1ZwEP9VojOL5",
        "outputId": "1dbfaff4-bab0-42ce-dd3b-c2e79a7d0281"
      },
      "execution_count": 5,
      "outputs": [
        {
          "output_type": "stream",
          "name": "stdout",
          "text": [
            "True\n",
            "False\n",
            "True\n",
            "False\n"
          ]
        }
      ]
    },
    {
      "cell_type": "markdown",
      "source": [
        "## Question3\n",
        "A group of friends have decided to start a secret society. The name will be the first letter of each of their names, sorted in alphabetical order.\n",
        "Create a function that takes in a list of names and returns the name of the secret society.\n",
        "\n",
        "Examples\n",
        "```\n",
        "society_name([\"Adam\", \"Sarah\", \"Malcolm\"]) ➞ \"AMS\"\n",
        "\n",
        "society_name([\"Harry\", \"Newt\", \"Luna\", \"Cho\"]) ➞ \"CHLN\"\n",
        "\n",
        "society_name([\"Phoebe\", \"Chandler\", \"Rachel\", \"Ross\", \"Monica\", \"Joey\"])\n",
        "```"
      ],
      "metadata": {
        "id": "qhxGp84Hj4J4"
      }
    },
    {
      "cell_type": "code",
      "source": [
        "def society_name(names):\n",
        "    initials = [name[0] for name in names] # extract first letter from each name\n",
        "    sorted_initials = sorted(initials) # sort the initials in alphabetical order\n",
        "    return ''.join(sorted_initials) # concatenate the sorted initials to form the society name\n",
        "\n",
        "print(society_name([\"Adam\", \"Sarah\", \"Malcolm\"])) # \"AMS\"\n",
        "print(society_name([\"Harry\", \"Newt\", \"Luna\", \"Cho\"])) # \"CHLN\"\n",
        "print(society_name([\"Phoebe\", \"Chandler\", \"Rachel\", \"Ross\", \"Monica\", \"Joey\"])) # \"CJMPRR\"\n"
      ],
      "metadata": {
        "colab": {
          "base_uri": "https://localhost:8080/"
        },
        "id": "EGO_OU9vjkmN",
        "outputId": "abe8a6ab-94d5-4d59-944c-1692643f13dc"
      },
      "execution_count": 6,
      "outputs": [
        {
          "output_type": "stream",
          "name": "stdout",
          "text": [
            "AMS\n",
            "CHLN\n",
            "CJMPRR\n"
          ]
        }
      ]
    },
    {
      "cell_type": "markdown",
      "source": [
        "## Question4\n",
        "\n",
        "An isogram is a word that has no duplicate letters. Create a function that takes a string and returns either True or False depending on whether or not it's an \"isogram\".\n",
        "\n",
        "Examples\n",
        "```\n",
        "is_isogram(\"Algorism\") ➞ True\n",
        "\n",
        "is_isogram(\"PasSword\") ➞ False\n",
        "# Not case sensitive.\n",
        "\n",
        "is_isogram(\"Consecutive\") ➞ False\n",
        "```\n",
        "Notes\n",
        "- Ignore letter case (should not be case sensitive).\n",
        "- All test cases contain valid one word strings.\n"
      ],
      "metadata": {
        "id": "ueaWsEFlkC7Y"
      }
    },
    {
      "cell_type": "code",
      "source": [
        "def is_isogram(txt):\n",
        "  txt = txt.lower()\n",
        "  return len(txt) == len(set(txt))\n",
        "\n",
        "print(is_isogram(\"Algorism\")) # True\n",
        "print(is_isogram(\"PasSword\")) # False\n",
        "print(is_isogram(\"Consecutive\")) # False"
      ],
      "metadata": {
        "colab": {
          "base_uri": "https://localhost:8080/"
        },
        "id": "InPoV0eTkH26",
        "outputId": "93233931-b3e1-4f4a-e27f-4f35019f74f8"
      },
      "execution_count": 7,
      "outputs": [
        {
          "output_type": "stream",
          "name": "stdout",
          "text": [
            "True\n",
            "False\n",
            "False\n"
          ]
        }
      ]
    },
    {
      "cell_type": "markdown",
      "source": [
        "## Question5\n",
        "\n",
        "Create a function that takes a string and returns True or False, depending on whether the characters are in order or not.\n",
        "\n",
        "Examples\n",
        "```\n",
        "is_in_order(\"abc\") ➞ True\n",
        "\n",
        "is_in_order(\"edabit\") ➞ False\n",
        "\n",
        "is_in_order(\"123\") ➞ True\n",
        "\n",
        "is_in_order(\"xyzz\") ➞ True\n",
        "```\n",
        "Notes\n",
        "- You don't have to handle empty strings.\n"
      ],
      "metadata": {
        "id": "6DWINC6BkTiX"
      }
    },
    {
      "cell_type": "code",
      "source": [
        "def is_in_order(txt):\n",
        "  for i in range(1, len(txt)):\n",
        "    if txt[i] < txt[i-1]:\n",
        "      return False\n",
        "    return True\n",
        "    \n",
        "print(is_in_order(\"abc\")) # True\n",
        "print(is_in_order(\"edabit\")) # False\n",
        "print(is_in_order(\"123\")) # True\n",
        "print(is_in_order(\"xyzz\")) # True\n"
      ],
      "metadata": {
        "colab": {
          "base_uri": "https://localhost:8080/"
        },
        "id": "erDFxZ4LkXE4",
        "outputId": "edd1e26b-5e06-4a65-cda4-fa192cae70ed"
      },
      "execution_count": 8,
      "outputs": [
        {
          "output_type": "stream",
          "name": "stdout",
          "text": [
            "True\n",
            "False\n",
            "True\n",
            "True\n"
          ]
        }
      ]
    }
  ]
}