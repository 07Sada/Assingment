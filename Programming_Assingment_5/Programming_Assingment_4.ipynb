{
 "cells": [
  {
   "cell_type": "code",
   "execution_count": 1,
   "metadata": {},
   "outputs": [
    {
     "name": "stdout",
     "output_type": "stream",
     "text": [
      "The LCM of 23 and 12 is 276\n"
     ]
    }
   ],
   "source": [
    "# 1.\tWrite a Python Program to Find LCM?\n",
    "def find_lcm(x, y):\n",
    "  # choose the greater number\n",
    "  if x > y:\n",
    "    greater = x\n",
    "  else:\n",
    "    greater = y\n",
    "  \n",
    "  while(True):\n",
    "    if((greater % x == 0) and (greater % y == 0)):\n",
    "      lcm = greater\n",
    "      break\n",
    "    greater += 1\n",
    "  return lcm\n",
    "\n",
    "num1 = int(input(\"Enter first number: \"))\n",
    "num2 = int(input(\"Enter second number: \"))\n",
    "print(\"The LCM of\", num1,\"and\", num2,\"is\", find_lcm(num1, num2))\n"
   ]
  },
  {
   "cell_type": "code",
   "execution_count": 2,
   "metadata": {},
   "outputs": [
    {
     "name": "stdout",
     "output_type": "stream",
     "text": [
      "The GCD of 23 and 6 is 1\n"
     ]
    }
   ],
   "source": [
    "# 2.\tWrite a Python Program to Find HCF?\n",
    "def find_hcf(x, y):\n",
    "    # This function implements the Euclidian algorithm to find H.C.F. of two numbers\n",
    "    while(y):\n",
    "        x, y = y, x % y\n",
    "    return x\n",
    "\n",
    "num1 = int(input(\"Enter first number: \"))\n",
    "num2 = int(input(\"Enter second number: \"))\n",
    "print(\"The GCD of\", num1,\"and\", num2,\"is\", find_hcf(num1, num2))"
   ]
  },
  {
   "cell_type": "code",
   "execution_count": 4,
   "metadata": {},
   "outputs": [
    {
     "name": "stdout",
     "output_type": "stream",
     "text": [
      "The binary representation of 40 is 101000\n",
      "The octal representation of 40 is 50\n",
      "The hexadecimal representation of 40 is 28\n"
     ]
    }
   ],
   "source": [
    "# 3.\tWrite a Python Program to Convert Decimal to Binary, Octal and Hexadecimal?\n",
    "dec = int(input(\"Enter a decimal number: \"))\n",
    "\n",
    "print(\"The binary representation of {0} is {0:b}\".format(dec))\n",
    "\n",
    "print(\"The octal representation of {0} is {0:o}\".format(dec))\n",
    "\n",
    "print(\"The hexadecimal representation of {0} is {0:x}\".format(dec))\n"
   ]
  },
  {
   "cell_type": "code",
   "execution_count": 5,
   "metadata": {},
   "outputs": [
    {
     "name": "stdout",
     "output_type": "stream",
     "text": [
      "The ASCII value of 's' is 115\n"
     ]
    }
   ],
   "source": [
    "# 4.\tWrite a Python Program To Find ASCII value of a character?\n",
    "char = input(\"Enter a character: \")\n",
    "\n",
    "print(\"The ASCII value of\", \"'\" + char + \"'\", \"is\", ord(char))\n"
   ]
  },
  {
   "cell_type": "code",
   "execution_count": 6,
   "metadata": {},
   "outputs": [
    {
     "name": "stdout",
     "output_type": "stream",
     "text": [
      "25.0 + 30.0 =  55.0\n"
     ]
    }
   ],
   "source": [
    "# 5.\tWrite a Python Program to Make a Simple Calculator with 4 basic mathematical operations?\n",
    "def calculator():\n",
    "    operation = input('''\n",
    "Please type in the math operation you would like to complete:\n",
    "+ for addition\n",
    "- for subtraction\n",
    "* for multiplication\n",
    "/ for division\n",
    "''')\n",
    "\n",
    "    num1 = float(input(\"Enter the first number: \"))\n",
    "    num2 = float(input(\"Enter the second number: \"))\n",
    "\n",
    "    if operation == '+':\n",
    "        print('{} + {} = '.format(num1, num2), num1 + num2)\n",
    "\n",
    "    elif operation == '-':\n",
    "        print('{} - {} = '.format(num1, num2), num1 - num2)\n",
    "\n",
    "    elif operation == '*':\n",
    "        print('{} * {} = '.format(num1, num2), num1 * num2)\n",
    "\n",
    "    elif operation == '/':\n",
    "        print('{} / {} = '.format(num1, num2), num1 / num2)\n",
    "\n",
    "    else:\n",
    "        print(\"You have not typed a valid operator, please run the program again.\")\n",
    "\n",
    "calculator()"
   ]
  }
 ],
 "metadata": {
  "kernelspec": {
   "display_name": "Python 3.8.10 64-bit",
   "language": "python",
   "name": "python3"
  },
  "language_info": {
   "codemirror_mode": {
    "name": "ipython",
    "version": 3
   },
   "file_extension": ".py",
   "mimetype": "text/x-python",
   "name": "python",
   "nbconvert_exporter": "python",
   "pygments_lexer": "ipython3",
   "version": "3.8.10"
  },
  "orig_nbformat": 4,
  "vscode": {
   "interpreter": {
    "hash": "e7370f93d1d0cde622a1f8e1c04877d8463912d04d973331ad4851f04de6915a"
   }
  }
 },
 "nbformat": 4,
 "nbformat_minor": 2
}
