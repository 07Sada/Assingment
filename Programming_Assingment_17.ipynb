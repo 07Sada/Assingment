{
  "nbformat": 4,
  "nbformat_minor": 0,
  "metadata": {
    "colab": {
      "provenance": []
    },
    "kernelspec": {
      "name": "python3",
      "display_name": "Python 3"
    },
    "language_info": {
      "name": "python"
    }
  },
  "cells": [
    {
      "cell_type": "markdown",
      "source": [
        "## Question1. \n",
        "Create a function that takes three arguments a, b, c and returns the sum of the numbers that are evenly divided by c from the range a, b inclusive.\n",
        "\n",
        "Examples\n",
        "```\n",
        "evenly_divisible(1, 10, 20) ➞ 0\n",
        "# No number between 1 and 10 can be evenly divided by 20.\n",
        "\n",
        "evenly_divisible(1, 10, 2) ➞ 30\n",
        "# 2 + 4 + 6 + 8 + 10 = 30\n",
        "\n",
        "evenly_divisible(1, 10, 3) ➞ 18\n",
        "# 3 + 6 + 9 = 18\n",
        "```\n"
      ],
      "metadata": {
        "id": "UVK_msI5Yfdz"
      }
    },
    {
      "cell_type": "code",
      "execution_count": 1,
      "metadata": {
        "colab": {
          "base_uri": "https://localhost:8080/"
        },
        "id": "vYMKvx_lYa-m",
        "outputId": "33f5b971-1a0b-40b7-c86b-bc7d44186298"
      },
      "outputs": [
        {
          "output_type": "stream",
          "name": "stdout",
          "text": [
            "18\n"
          ]
        }
      ],
      "source": [
        "def evenly_divisible(a, b, c):\n",
        "    return sum([x for x in range(a, b+1) if x % c == 0])\n",
        "\n",
        "print(evenly_divisible(1, 10, 3)) # Output: 18"
      ]
    },
    {
      "cell_type": "markdown",
      "source": [
        "## Question2. \n",
        "Create a function that returns True if a given inequality expression is correct and False otherwise.\n",
        "\n",
        "Examples\n",
        "```\n",
        "correct_signs(\"3 < 7 < 11\") ➞ True\n",
        "\n",
        "correct_signs(\"13 > 44 > 33 > 1\") ➞ False\n",
        "\n",
        "correct_signs(\"1 < 2 < 6 < 9 > 3\") ➞ True\n",
        "```"
      ],
      "metadata": {
        "id": "r5mDf_OJY0QI"
      }
    },
    {
      "cell_type": "code",
      "source": [
        "def correct_signs(expr):\n",
        "    return eval(expr)\n",
        "\n",
        "print(correct_signs(\"3 < 7 < 11\")) # Output: True\n",
        "print(correct_signs(\"13 > 44 > 33 > 1\")) # Output: False\n",
        "print(correct_signs(\"1 < 2 < 6 < 9 > 3\")) # Output: True"
      ],
      "metadata": {
        "colab": {
          "base_uri": "https://localhost:8080/"
        },
        "id": "6GufR9LVYsse",
        "outputId": "5637fef9-2c1b-412e-f9a0-55d64de8ff42"
      },
      "execution_count": 2,
      "outputs": [
        {
          "output_type": "stream",
          "name": "stdout",
          "text": [
            "True\n",
            "False\n",
            "True\n"
          ]
        }
      ]
    },
    {
      "cell_type": "markdown",
      "source": [
        "## Question3. \n",
        "Create a function that replaces all the vowels in a string with a specified character.\n",
        "\n",
        "Examples\n",
        "```\n",
        "replace_vowels(\"the aardvark\", \"#\") ➞ \"th# ##rdv#rk\"\n",
        "\n",
        "replace_vowels(\"minnie mouse\", \"?\") ➞ \"m?nn?? m??s?\"\n",
        "\n",
        "replace_vowels(\"shakespeare\", \"*\") ➞ \"sh*k*sp**r*\"\n",
        "```"
      ],
      "metadata": {
        "id": "A77Ol1TWZBWb"
      }
    },
    {
      "cell_type": "code",
      "source": [
        "def replace_vowels(string, char):\n",
        "    vowels = \"aeiouAEIOU\"\n",
        "    for vowel in vowels:\n",
        "        string = string.replace(vowel, char)\n",
        "    return string\n",
        "\n",
        "print(replace_vowels(\"the aardvark\", \"#\")) # Output: \"th# ##rdv#rk\"\n",
        "print(replace_vowels(\"minnie mouse\", \"?\")) # Output: \"m?nn?? m??s?\"\n",
        "print(replace_vowels(\"shakespeare\", \"*\")) # Output: \"sh*k*sp**r*\""
      ],
      "metadata": {
        "colab": {
          "base_uri": "https://localhost:8080/"
        },
        "id": "Tp6LeAchY7t-",
        "outputId": "1321c29b-8ca5-42c4-b399-c10769d24fd7"
      },
      "execution_count": 3,
      "outputs": [
        {
          "output_type": "stream",
          "name": "stdout",
          "text": [
            "th# ##rdv#rk\n",
            "m?nn?? m??s?\n",
            "sh*k*sp**r*\n"
          ]
        }
      ]
    },
    {
      "cell_type": "markdown",
      "source": [
        "## Question4. \n",
        "Write a function that calculates the factorial of a number recursively.\n",
        "\n",
        "Examples\n",
        "```\n",
        "factorial(5) ➞ 120\n",
        "\n",
        "factorial(3) ➞ 6\n",
        "\n",
        "factorial(1) ➞ 1\n",
        "\n",
        "factorial(0) ➞ 1\n",
        "```"
      ],
      "metadata": {
        "id": "3LtEmteRZOZp"
      }
    },
    {
      "cell_type": "code",
      "source": [
        "def factorial(n):\n",
        "    if n == 0:\n",
        "        return 1\n",
        "    else:\n",
        "        return n * factorial(n-1)\n",
        "\n",
        "print(factorial(5)) # Output: 120\n",
        "print(factorial(3)) # Output: 6\n",
        "print(factorial(1)) # Output: 1\n",
        "print(factorial(0)) # Output: 1"
      ],
      "metadata": {
        "colab": {
          "base_uri": "https://localhost:8080/"
        },
        "id": "42dbS0_oZRPp",
        "outputId": "23a543b5-7d86-4b23-c292-2e0fdd3906f8"
      },
      "execution_count": 4,
      "outputs": [
        {
          "output_type": "stream",
          "name": "stdout",
          "text": [
            "120\n",
            "6\n",
            "1\n",
            "1\n"
          ]
        }
      ]
    },
    {
      "cell_type": "markdown",
      "source": [
        "## Question 5\n",
        "\n",
        "Hamming distance is the number of characters that differ between two strings.\n",
        "To illustrate:\n",
        "```\n",
        "String1: \"abcbba\"\n",
        "String2: \"abcbda\"\n",
        "```\n",
        "\n",
        "Hamming Distance: 1 - \"b\" vs. \"d\" is the only difference.\n",
        "\n",
        "Create a function that computes the hamming distance between two strings.\n",
        "\n",
        "Examples\n",
        "\n",
        "```\n",
        "hamming_distance(\"abcde\", \"bcdef\") ➞ 5\n",
        "\n",
        "hamming_distance(\"abcde\", \"abcde\") ➞ 0\n",
        "\n",
        "hamming_distance(\"strong\", \"strung\") ➞ 1\n",
        "```\n"
      ],
      "metadata": {
        "id": "4ShGWqhfZaAq"
      }
    },
    {
      "cell_type": "code",
      "source": [
        "def hamming_distance(s1, s2):\n",
        "    if len(s1) != len(s2):\n",
        "        raise ValueError(\"Input strings must have the same length\")\n",
        "    return sum(1 for x, y in zip(s1, s2) if x != y)\n",
        "\n",
        "\n",
        "print(hamming_distance(\"abcde\", \"bcdef\")) # Output: 5\n",
        "print(hamming_distance(\"abcde\", \"abcde\")) # Output: 0\n",
        "print(hamming_distance(\"strong\", \"strung\")) # Output: 1"
      ],
      "metadata": {
        "colab": {
          "base_uri": "https://localhost:8080/"
        },
        "id": "gQw9G-SvZfZZ",
        "outputId": "0d712fb4-9236-4b50-f927-fe283c815b2d"
      },
      "execution_count": 6,
      "outputs": [
        {
          "output_type": "stream",
          "name": "stdout",
          "text": [
            "5\n",
            "0\n",
            "1\n"
          ]
        }
      ]
    },
    {
      "cell_type": "code",
      "source": [],
      "metadata": {
        "id": "P-356sEgZjfu"
      },
      "execution_count": null,
      "outputs": []
    }
  ]
}