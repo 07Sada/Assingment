{
  "nbformat": 4,
  "nbformat_minor": 0,
  "metadata": {
    "colab": {
      "provenance": [],
      "collapsed_sections": [
        "39tAmhpVaSio",
        "wPOvaNEKaRuB",
        "11cklhwZbcev",
        "FitJ30ecb8Lv"
      ]
    },
    "kernelspec": {
      "name": "python3",
      "display_name": "Python 3"
    },
    "language_info": {
      "name": "python"
    }
  },
  "cells": [
    {
      "cell_type": "markdown",
      "source": [
        "## Question 1\n",
        "Create a function that takes a list of non-negative integers and strings and return a new list without the strings.\n",
        "\n",
        "Examples\n",
        "```\n",
        "filter_list([1, 2, \"a\", \"b\"]) ➞ [1, 2]\n",
        "\n",
        "filter_list([1, \"a\", \"b\", 0, 15]) ➞ [1, 0, 15]\n",
        "\n",
        "filter_list([1, 2, \"aasf\", \"1\", \"123\", 123]) ➞ [1, 2, 123]\n",
        "```"
      ],
      "metadata": {
        "id": "39tAmhpVaSio"
      }
    },
    {
      "cell_type": "code",
      "execution_count": 1,
      "metadata": {
        "colab": {
          "base_uri": "https://localhost:8080/"
        },
        "id": "q_BCb1EHaIQB",
        "outputId": "3415095a-5629-4f1e-e717-4445f48938f4"
      },
      "outputs": [
        {
          "output_type": "stream",
          "name": "stdout",
          "text": [
            "[1, 2]\n",
            "[1, 0, 15]\n",
            "[1, 2, 123]\n"
          ]
        }
      ],
      "source": [
        "def filter_list(lst):\n",
        "    new_lst = []\n",
        "    for i in lst:\n",
        "        if isinstance(i, int):\n",
        "            new_lst.append(i)\n",
        "    return new_lst\n",
        "\n",
        "print(filter_list([1, 2, \"a\", \"b\"])) # Output: [1, 2]\n",
        "print(filter_list([1, \"a\", \"b\", 0, 15])) # Output: [1, 0, 15]\n",
        "print(filter_list([1, 2, \"aasf\", \"1\", \"123\", 123])) # Output: [1, 2, 123]"
      ]
    },
    {
      "cell_type": "markdown",
      "source": [
        "## Question 2\n",
        "\n",
        "The \"Reverser\" takes a string as input and returns that string in reverse order, with the opposite case.\n",
        "\n",
        "Examples\n",
        "```\n",
        "reverse(\"Hello World\") ➞ \"DLROw OLLEh\"\n",
        "\n",
        "reverse(\"ReVeRsE\") ➞ \"eSrEvEr\"\n",
        "\n",
        "reverse(\"Radar\") ➞ \"RADAr\"\n",
        "```"
      ],
      "metadata": {
        "id": "wPOvaNEKaRuB"
      }
    },
    {
      "cell_type": "code",
      "source": [
        "def reverse(txt):\n",
        "    return txt[::-1].swapcase()\n",
        "\n",
        "print(\"reverse('Hello World') -->\",reverse(\"Hello World\"))\n",
        "print(\"reverse('ReVeRsE')-->\",reverse(\"ReVeRsE\"))\n",
        "print(\"reverse('Radar')-->\",reverse(\"Radar\"))"
      ],
      "metadata": {
        "colab": {
          "base_uri": "https://localhost:8080/"
        },
        "id": "gYmdgFYhakWN",
        "outputId": "faae2ae4-39da-4a60-c81a-13f69bad23f0"
      },
      "execution_count": 3,
      "outputs": [
        {
          "output_type": "stream",
          "name": "stdout",
          "text": [
            "reverse('Hello World') --> DLROw OLLEh\n",
            "reverse('ReVeRsE')--> eSrEvEr\n",
            "reverse('Radar')--> RADAr\n"
          ]
        }
      ]
    },
    {
      "cell_type": "markdown",
      "source": [
        "## Question 4\n",
        "\n",
        "Write a function that calculates the factorial of a number recursively.\n",
        "\n",
        "Examples\n",
        "```\n",
        "factorial(5) ➞ 120\n",
        "\n",
        "factorial(3) ➞ 6\n",
        "\n",
        "factorial(1) ➞ 1\n",
        "\n",
        "factorial(0) ➞ 1\n",
        "```"
      ],
      "metadata": {
        "id": "11cklhwZbcev"
      }
    },
    {
      "cell_type": "code",
      "source": [
        "def factorial(n):\n",
        "    if n == 0:\n",
        "        return 1\n",
        "    else:\n",
        "        return n * factorial(n-1)\n",
        "\n",
        "print(factorial(5)) # Output: 120\n",
        "print(factorial(3)) # Output: 6\n",
        "print(factorial(1)) # Output: 1\n",
        "print(factorial(0)) # Output: 1"
      ],
      "metadata": {
        "colab": {
          "base_uri": "https://localhost:8080/"
        },
        "id": "Yucd7XDQbgnf",
        "outputId": "dce9ceec-bb16-4525-f132-ca2a37e3a36a"
      },
      "execution_count": 4,
      "outputs": [
        {
          "output_type": "stream",
          "name": "stdout",
          "text": [
            "120\n",
            "6\n",
            "1\n",
            "1\n"
          ]
        }
      ]
    },
    {
      "cell_type": "markdown",
      "source": [
        "## Question 5\n",
        "\n",
        "Write a function that moves all elements of one type to the end of the list.\n",
        "\n",
        "Examples\n",
        "```\n",
        "move_to_end([1, 3, 2, 4, 4, 1], 1) ➞ [3, 2, 4, 4, 1, 1]\n",
        "# Move all the 1s to the end of the array.\n",
        "\n",
        "move_to_end([7, 8, 9, 1, 2, 3, 4], 9) ➞ [7, 8, 1, 2, 3, 4, 9]\n",
        "\n",
        "move_to_end([\"a\", \"a\", \"a\", \"b\"], \"a\") ➞ [\"b\", \"a\", \"a\", \"a\"]\n",
        "```"
      ],
      "metadata": {
        "id": "FitJ30ecb8Lv"
      }
    },
    {
      "cell_type": "code",
      "source": [
        "def move_to_end(lst, el):\n",
        "  count_el = lst.count(el) # count how many times element is present in the list\n",
        "  lst = [x for x in lst if x != el] # Remove the element from the list\n",
        "  lst = lst + [el]*count_el # Add the element at the end of the list as many times as its count\n",
        "  return lst\n",
        "\n",
        "# example cases\n",
        "print(move_to_end([1, 3, 2, 4, 4, 1], 1)) # [3, 2, 4, 4, 1, 1]\n",
        "print(move_to_end([7, 8, 9, 1, 2, 3, 4], 9)) # [7, 8, 1, 2, 3, 4, 9]\n",
        "print(move_to_end([\"a\", \"a\", \"a\", \"b\"], \"a\")) # [\"b\", \"a\", \"a\", \"a\"]"
      ],
      "metadata": {
        "colab": {
          "base_uri": "https://localhost:8080/"
        },
        "id": "9bEjS4NHbkFY",
        "outputId": "33b43a2e-6999-4ba6-9bb6-1f10ea48c751"
      },
      "execution_count": 5,
      "outputs": [
        {
          "output_type": "stream",
          "name": "stdout",
          "text": [
            "[3, 2, 4, 4, 1, 1]\n",
            "[7, 8, 1, 2, 3, 4, 9]\n",
            "['b', 'a', 'a', 'a']\n"
          ]
        }
      ]
    }
  ]
}