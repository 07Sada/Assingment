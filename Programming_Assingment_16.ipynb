{
  "nbformat": 4,
  "nbformat_minor": 0,
  "metadata": {
    "colab": {
      "provenance": []
    },
    "kernelspec": {
      "name": "python3",
      "display_name": "Python 3"
    },
    "language_info": {
      "name": "python"
    },
    "gpuClass": "standard"
  },
  "cells": [
    {
      "cell_type": "markdown",
      "source": [
        "## Question1. \n",
        "Write a function that stutters a word as if someone is struggling to read it. The first two letters are repeated twice with an ellipsis ... and space after each, and then the word is pronounced with a question mark ?.\n",
        "Examples\n",
        "stutter(\"incredible\") ➞ \"in... in... incredible?\"\n",
        "\n",
        "stutter(\"enthusiastic\") ➞ \"en... en... enthusiastic?\"\n",
        "\n",
        "stutter(\"outstanding\") ➞ \"ou... ou... outstanding?\"\n",
        "\n",
        "Hint :- Assume all input is in lower case and at least two characters long.\n"
      ],
      "metadata": {
        "id": "v22fsLFjGm7r"
      }
    },
    {
      "cell_type": "code",
      "execution_count": 4,
      "metadata": {
        "colab": {
          "base_uri": "https://localhost:8080/"
        },
        "id": "2sS0SBS9Gj_a",
        "outputId": "cf375720-b0e3-46a4-9d38-887f284ad79f"
      },
      "outputs": [
        {
          "output_type": "stream",
          "name": "stdout",
          "text": [
            "incredible --> in... in... incredible?\n",
            "enthusiastic --> en... en... enthusiastic?\n",
            "outstanding --> ou... ou... outstanding?\n"
          ]
        }
      ],
      "source": [
        "def stutter(word):\n",
        "    stuttered_word = word[:2] + \"... \" + word[:2] + \"... \" + word + \"?\"\n",
        "    return stuttered_word\n",
        "\n",
        "print(f\"incredible --> {stutter('incredible')}\") # Output: \"in... in... incredible?\"\n",
        "print(f\"enthusiastic --> {stutter('enthusiastic')}\") # Output: \"en... en... enthusiastic?\"\n",
        "print(f\"outstanding --> {stutter('outstanding')}\") # Output: \"ou... ou... outstanding?\""
      ]
    },
    {
      "cell_type": "markdown",
      "source": [
        "## Question 2\n",
        "Create a function that takes an angle in radians and returns the corresponding angle in degrees rounded to one decimal place.\n",
        "Examples\n",
        "radians_to_degrees(1) ➞ 57.3\n",
        "\n",
        "radians_to_degrees(20) ➞ 1145.9\n",
        "\n",
        "radians_to_degrees(50) ➞ 2864.8\n"
      ],
      "metadata": {
        "id": "L2hLv3RPH7KO"
      }
    },
    {
      "cell_type": "code",
      "source": [
        "import math\n",
        "\n",
        "def radians_to_degrees(rad):\n",
        "    deg = rad * 180 / math.pi\n",
        "    return round(deg, 1)\n",
        "\n",
        "radians_to_degrees(50)"
      ],
      "metadata": {
        "colab": {
          "base_uri": "https://localhost:8080/"
        },
        "id": "6Z_7TBjUHzbY",
        "outputId": "7dbabce8-2629-4f4f-a932-e4a4b706da36"
      },
      "execution_count": 5,
      "outputs": [
        {
          "output_type": "execute_result",
          "data": {
            "text/plain": [
              "2864.8"
            ]
          },
          "metadata": {},
          "execution_count": 5
        }
      ]
    },
    {
      "cell_type": "markdown",
      "source": [
        "## Question 3. \n",
        "In this challenge, establish if a given integer num is a Curzon number. If 1 plus 2 elevated to num is exactly divisible by 1 plus 2 multiplied by num, then num is a Curzon number.\n",
        "Given a non-negative integer num, implement a function that returns True if num is a Curzon number, or False otherwise.\n",
        "\n",
        "### Examples\n",
        "\n",
        "```\n",
        "is_curzon(5) ➞ True\n",
        "# 2 ** 5 + 1 = 33\n",
        "# 2 * 5 + 1 = 11\n",
        "# 33 is a multiple of 11\n",
        "\n",
        "is_curzon(10) ➞ False\n",
        "# 2 ** 10 + 1 = 1025\n",
        "# 2 * 10 + 1 = 21\n",
        "# 1025 is not a multiple of 21\n",
        "\n",
        "is_curzon(14) ➞ True\n",
        "# 2 ** 14 + 1 = 16385\n",
        "# 2 * 14 + 1 = 29\n",
        "# 16385 is a multiple of 29\n",
        "\n",
        "```\n",
        "\n"
      ],
      "metadata": {
        "id": "c6tHZg5TT1Tb"
      }
    },
    {
      "cell_type": "code",
      "source": [
        "def is_curzon(num):\n",
        "    numerator = 2**num + 1\n",
        "    denominator = 2*num + 1\n",
        "    return numerator % denominator == 0\n",
        "\n",
        "is_curzon(5) # Output: True\n",
        "is_curzon(10) # Output: False\n",
        "is_curzon(14) # Output: True"
      ],
      "metadata": {
        "colab": {
          "base_uri": "https://localhost:8080/"
        },
        "id": "rYZD-K_6Tr_p",
        "outputId": "65a9ef71-6c98-47ec-e3b3-43144b3b6616"
      },
      "execution_count": 6,
      "outputs": [
        {
          "output_type": "execute_result",
          "data": {
            "text/plain": [
              "True"
            ]
          },
          "metadata": {},
          "execution_count": 6
        }
      ]
    },
    {
      "cell_type": "markdown",
      "source": [
        "## Question 4.\n",
        "Given the side length x find the area of a hexagon.\n",
        "\n",
        "Examples\n",
        "```\n",
        "area_of_hexagon(1) ➞ 2.6\n",
        "\n",
        "area_of_hexagon(2) ➞ 10.4\n",
        "\n",
        "area_of_hexagon(3) ➞ 23.4\n",
        "```"
      ],
      "metadata": {
        "id": "EyoydNXgWrUA"
      }
    },
    {
      "cell_type": "code",
      "source": [
        "import math\n",
        "\n",
        "def area_of_hexagon(x):\n",
        "    return round((3*math.sqrt(3) / 2) * x**2, 1)\n",
        "\n",
        "print(area_of_hexagon(3))"
      ],
      "metadata": {
        "colab": {
          "base_uri": "https://localhost:8080/"
        },
        "id": "pGF9i1L_Wwhm",
        "outputId": "20b8aaa1-34dd-4989-a291-a221ef161d6c"
      },
      "execution_count": 7,
      "outputs": [
        {
          "output_type": "stream",
          "name": "stdout",
          "text": [
            "23.4\n"
          ]
        }
      ]
    },
    {
      "cell_type": "markdown",
      "source": [
        "## Question 5. \n",
        "Create a function that returns a base-2 (binary) representation of a base-10 (decimal) string number. To convert is simple: \n",
        "```\n",
        "((2) means base-2 and (10) means base-10) 010101001(2) = 1 + 8 + 32 + 128.\n",
        "```\n",
        "Going from right to left, the value of the most right bit is 1, now from that every bit to the left will be x2 the value, value of an 8 bit binary numbers are (256, 128, 64, 32, 16, 8, 4, 2, 1).\n",
        "Examples\n",
        "```\n",
        "binary(1) ➞ \"1\"\n",
        "# 1*1 = 1\n",
        "\n",
        "binary(5) ➞ \"101\"\n",
        "# 1*1 + 1*4 = 5\n",
        "\n",
        "binary(10) ➞ \"1010\"\n",
        "# 1*2 + 1*8 = 10\n",
        "```"
      ],
      "metadata": {
        "id": "pk-N_ttOXRXr"
      }
    },
    {
      "cell_type": "code",
      "source": [
        "def binary(decimal):\n",
        "    binary_str = ''\n",
        "    while decimal > 0:\n",
        "        remainder = decimal % 2\n",
        "        binary_str = str(remainder) + binary_str\n",
        "        decimal //= 2\n",
        "    return binary_str if binary_str else '0'\n",
        "\n",
        "print(binary(10))"
      ],
      "metadata": {
        "colab": {
          "base_uri": "https://localhost:8080/"
        },
        "id": "0ygQ4HZDXKfz",
        "outputId": "e3c9623f-400b-44c6-f0d9-7353b3e09564"
      },
      "execution_count": 8,
      "outputs": [
        {
          "output_type": "stream",
          "name": "stdout",
          "text": [
            "1010\n"
          ]
        }
      ]
    }
  ]
}