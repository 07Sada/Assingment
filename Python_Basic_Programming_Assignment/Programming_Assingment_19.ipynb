{
  "nbformat": 4,
  "nbformat_minor": 0,
  "metadata": {
    "colab": {
      "provenance": []
    },
    "kernelspec": {
      "name": "python3",
      "display_name": "Python 3"
    },
    "language_info": {
      "name": "python"
    }
  },
  "cells": [
    {
      "cell_type": "markdown",
      "source": [
        "## Question1\n",
        "\n",
        "Create a function that takes a string and returns a string in which each character is repeated once.\n",
        "\n",
        "Examples\n",
        "```\n",
        "double_char(\"String\") ➞ \"SSttrriinngg\"\n",
        "\n",
        "double_char(\"Hello World!\") ➞ \"HHeelllloo  WWoorrlldd!!\"\n",
        "\n",
        "double_char(\"1234!_ \") ➞ \"11223344!!__  \"\n",
        "```"
      ],
      "metadata": {
        "id": "n6chBUCbcyQJ"
      }
    },
    {
      "cell_type": "code",
      "execution_count": 1,
      "metadata": {
        "colab": {
          "base_uri": "https://localhost:8080/"
        },
        "id": "d7aaH6edchVo",
        "outputId": "d48963ed-39d2-4b15-e7be-f7a15fdd8489"
      },
      "outputs": [
        {
          "output_type": "stream",
          "name": "stdout",
          "text": [
            "SSttrriinngg\n",
            "HHeelllloo  WWoorrlldd!!\n",
            "11223344!!__  \n"
          ]
        }
      ],
      "source": [
        "def double_char(txt):\n",
        "    return \"\".join([char * 2 for char in txt])\n",
        "\n",
        "print(double_char(\"String\"))   # Output: \"SSttrriinngg\"\n",
        "print(double_char(\"Hello World!\"))   # Output: \"HHeelllloo  WWoorrlldd!!\"\n",
        "print(double_char(\"1234!_ \"))   # Output: \"11223344!!__  \""
      ]
    },
    {
      "cell_type": "markdown",
      "source": [
        "## Question2\n",
        "\n",
        "Create a function that reverses a boolean value and returns the string \"boolean expected\" if another variable type is given.\n",
        "\n",
        "Examples\n",
        "```\n",
        "reverse(True) ➞ False\n",
        "\n",
        "reverse(False) ➞ True\n",
        "\n",
        "reverse(0) ➞ \"boolean expected\"\n",
        "\n",
        "reverse(None) ➞ \"boolean expected\"\n",
        "```"
      ],
      "metadata": {
        "id": "8urjwqg0dCw5"
      }
    },
    {
      "cell_type": "code",
      "source": [
        "def reverse(arg):\n",
        "    if type(arg) != bool:\n",
        "        return \"boolean expected\"\n",
        "    else:\n",
        "        return not arg\n",
        "\n",
        "print(reverse(True))\n",
        "print(reverse(False))\n",
        "print(reverse(0))\n",
        "print(reverse(None))"
      ],
      "metadata": {
        "colab": {
          "base_uri": "https://localhost:8080/"
        },
        "id": "qkiNPMFUdFn0",
        "outputId": "048420d2-f57a-4f5e-8eb4-d46f8bbdca1f"
      },
      "execution_count": 3,
      "outputs": [
        {
          "output_type": "stream",
          "name": "stdout",
          "text": [
            "False\n",
            "True\n",
            "boolean expected\n",
            "boolean expected\n"
          ]
        }
      ]
    },
    {
      "cell_type": "markdown",
      "source": [
        "## Question3\n",
        "Create a function that returns the thickness (in meters) of a piece of paper after folding it n number of times. The paper starts off with a thickness of 0.5mm.\n",
        "\n",
        "Examples\n",
        "```\n",
        "num_layers(1) ➞ \"0.001m\"\n",
        "# Paper folded once is 1mm (equal to 0.001m)\n",
        "\n",
        "num_layers(4) ➞ \"0.008m\"\n",
        "# Paper folded 4 times is 8mm (equal to 0.008m)\n",
        "\n",
        "num_layers(21) ➞ \"1048.576m\"\n",
        "# Paper folded 21 times is 1048576mm (equal to 1048.576m)\n",
        "```"
      ],
      "metadata": {
        "id": "1fJCrO4xdhHY"
      }
    },
    {
      "cell_type": "code",
      "source": [
        "def num_layers(n):\n",
        "    thickness_mm = 0.5 * (2 ** n)\n",
        "    thickness_m = thickness_mm / 1000\n",
        "    return \"{:.3f}m\".format(thickness_m)\n",
        "\n",
        "print(num_layers(1))  # Output: 0.001m\n",
        "print(num_layers(4))  # Output: 0.008m\n",
        "print(num_layers(21)) # Output: 1048.576m"
      ],
      "metadata": {
        "colab": {
          "base_uri": "https://localhost:8080/"
        },
        "id": "olNMT8XCdju-",
        "outputId": "27ec9829-43c2-4228-e760-2521f22221c2"
      },
      "execution_count": 4,
      "outputs": [
        {
          "output_type": "stream",
          "name": "stdout",
          "text": [
            "0.001m\n",
            "0.008m\n",
            "1048.576m\n"
          ]
        }
      ]
    },
    {
      "cell_type": "markdown",
      "source": [
        "## Question4\n",
        "\n",
        "Create a function that takes a single string as argument and returns an ordered list containing the indices of all capital letters in the string.\n",
        "\n",
        "Examples\n",
        "```\n",
        "index_of_caps(\"eDaBiT\") ➞ [1, 3, 5]\n",
        "\n",
        "index_of_caps(\"eQuINoX\") ➞ [1, 3, 4, 6]\n",
        "\n",
        "index_of_caps(\"determine\") ➞ []\n",
        "\n",
        "index_of_caps(\"STRIKE\") ➞ [0, 1, 2, 3, 4, 5]\n",
        "\n",
        "index_of_caps(\"sUn\") ➞ [1]\n",
        "```"
      ],
      "metadata": {
        "id": "MAwWm9ZcduCX"
      }
    },
    {
      "cell_type": "code",
      "source": [
        "def index_of_caps(word):\n",
        "    return [i for i, c in enumerate(word) if c.isupper()]\n",
        "\n",
        "print(index_of_caps(\"eDaBiT\"))\n",
        "print(index_of_caps(\"eQuINoX\"))"
      ],
      "metadata": {
        "colab": {
          "base_uri": "https://localhost:8080/"
        },
        "id": "Lm57IgMNdn5A",
        "outputId": "17f816c2-5a35-45d4-f061-5afe7491661b"
      },
      "execution_count": 6,
      "outputs": [
        {
          "output_type": "stream",
          "name": "stdout",
          "text": [
            "[1, 3, 5]\n",
            "[1, 3, 4, 6]\n"
          ]
        }
      ]
    },
    {
      "cell_type": "markdown",
      "source": [
        "## Question5\n",
        "Using list comprehensions, create a function that finds all even numbers from 1 to the given number.\n",
        "\n",
        "Examples\n",
        "```\n",
        "find_even_nums(8) ➞ [2, 4, 6, 8]\n",
        "\n",
        "find_even_nums(4) ➞ [2, 4]\n",
        "\n",
        "find_even_nums(2) ➞ [2]\n",
        "```"
      ],
      "metadata": {
        "id": "tFtQk-AweHVt"
      }
    },
    {
      "cell_type": "code",
      "source": [
        "def find_even_nums(n):\n",
        "    return [i for i in range(1, n+1) if i % 2 == 0]\n",
        "\n",
        "print(find_even_nums(8))\n",
        "print(find_even_nums(4))\n",
        "print(find_even_nums(2))"
      ],
      "metadata": {
        "colab": {
          "base_uri": "https://localhost:8080/"
        },
        "id": "B8VAJa7VeJmJ",
        "outputId": "fd4b1c57-5397-4a8f-e621-e5df60ba1683"
      },
      "execution_count": 7,
      "outputs": [
        {
          "output_type": "stream",
          "name": "stdout",
          "text": [
            "[2, 4, 6, 8]\n",
            "[2, 4]\n",
            "[2]\n"
          ]
        }
      ]
    }
  ]
}