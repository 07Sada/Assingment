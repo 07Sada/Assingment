{
  "nbformat": 4,
  "nbformat_minor": 0,
  "metadata": {
    "colab": {
      "provenance": []
    },
    "kernelspec": {
      "name": "python3",
      "display_name": "Python 3"
    },
    "language_info": {
      "name": "python"
    }
  },
  "cells": [
    {
      "cell_type": "markdown",
      "source": [
        "## Question1\n",
        "\n",
        "Create a function that takes three integer arguments (a, b, c) and returns the amount of integers which are of equal value.\n",
        "\n",
        "Examples\n",
        "```\n",
        "equal(3, 4, 3) ➞ 2\n",
        "\n",
        "equal(1, 1, 1) ➞ 3\n",
        "\n",
        "equal(3, 4, 1) ➞ 0 \n",
        "```\n",
        "Notes\n",
        "- Your function must return 0, 2 or 3.\n"
      ],
      "metadata": {
        "id": "b3ouJqPBoCTy"
      }
    },
    {
      "cell_type": "code",
      "execution_count": 1,
      "metadata": {
        "colab": {
          "base_uri": "https://localhost:8080/"
        },
        "id": "RPMVEBBbnq6T",
        "outputId": "a1707f99-c1ba-4c96-e84a-10e118e7dbb0"
      },
      "outputs": [
        {
          "output_type": "stream",
          "name": "stdout",
          "text": [
            "2\n",
            "3\n",
            "0\n"
          ]
        }
      ],
      "source": [
        "def equal(a, b, c):\n",
        "  if a == b == c:\n",
        "    return 3\n",
        "  elif a == b or b == c or c == a:\n",
        "    return 2\n",
        "  else:\n",
        "    return 0\n",
        "\n",
        "print(equal(3, 4, 3)) # output: 2\n",
        "print(equal(1, 1, 1)) # output: 3\n",
        "print(equal(3, 4, 1)) # output: 0"
      ]
    },
    {
      "cell_type": "markdown",
      "source": [
        "## Question2\n",
        "\n",
        "Write a function that converts a dictionary into a list of keys-values tuples.\n",
        "\n",
        "Examples\n",
        "```\n",
        "dict_to_list({\n",
        "  \"D\": 1,\n",
        "  \"B\": 2,\n",
        "  \"C\": 3\n",
        "}) ➞ [(\"B\", 2), (\"C\", 3), (\"D\", 1)]\n",
        "\n",
        "dict_to_list({\n",
        "  \"likes\": 2,\n",
        "  \"dislikes\": 3,\n",
        "  \"followers\": 10\n",
        "}) ➞ [(\"dislikes\", 3), (\"followers\", 10), (\"likes\", 2)]\n",
        "```\n",
        "Notes\n",
        "- Return the elements in the list in alphabetical order.\n"
      ],
      "metadata": {
        "id": "d95Hy_G6oT8B"
      }
    },
    {
      "cell_type": "code",
      "source": [
        "def dict_to_list(d):\n",
        "    return sorted(d.items())\n",
        "\n",
        "print(dict_to_list({\"D\": 1, \"B\": 2, \"C\": 3}))\n",
        "# Output: [('B', 2), ('C', 3), ('D', 1)]\n",
        "\n",
        "print(dict_to_list({\"likes\": 2, \"dislikes\": 3, \"followers\": 10}))\n",
        "# Output: [('dislikes', 3), ('followers', 10), ('likes', 2)]\n"
      ],
      "metadata": {
        "colab": {
          "base_uri": "https://localhost:8080/"
        },
        "id": "sOcOcmkwoXvL",
        "outputId": "83782cd9-629e-4e04-a0d1-be2ab2e45a9c"
      },
      "execution_count": 2,
      "outputs": [
        {
          "output_type": "stream",
          "name": "stdout",
          "text": [
            "[('B', 2), ('C', 3), ('D', 1)]\n",
            "[('dislikes', 3), ('followers', 10), ('likes', 2)]\n"
          ]
        }
      ]
    },
    {
      "cell_type": "markdown",
      "source": [
        "## Question3\n",
        "\n",
        "Write a function that creates a dictionary with each (key, value) pair being the (lower case, upper case) versions of a letter, respectively.\n",
        "\n",
        "Examples\n",
        "```\n",
        "mapping([\"p\", \"s\"]) ➞ { \"p\": \"P\", \"s\": \"S\" }\n",
        "\n",
        "mapping([\"a\", \"b\", \"c\"]) ➞ { \"a\": \"A\", \"b\": \"B\", \"c\": \"C\" }\n",
        "\n",
        "mapping([\"a\", \"v\", \"y\", \"z\"]) ➞ { \"a\": \"A\", \"v\": \"V\", \"y\": \"Y\", \"z\": \"Z\" }\n",
        "```\n",
        "Notes\n",
        "- All of the letters in the input list will always be lowercase.\n"
      ],
      "metadata": {
        "id": "EnvJ0hFNofhR"
      }
    },
    {
      "cell_type": "code",
      "source": [
        "def mapping(letters):\n",
        "  result = {}\n",
        "  for letter in letters:\n",
        "    result[letter] = letter.upper()\n",
        "  return result\n",
        "\n",
        "print(mapping([\"p\", \"s\"])) # output: {\"p\": \"P\", \"s\": \"S\"}\n"
      ],
      "metadata": {
        "colab": {
          "base_uri": "https://localhost:8080/"
        },
        "id": "s5fEn3Awoim-",
        "outputId": "742e26dd-77ca-4b8f-e512-178df13a862a"
      },
      "execution_count": 3,
      "outputs": [
        {
          "output_type": "stream",
          "name": "stdout",
          "text": [
            "{'p': 'P', 's': 'S'}\n"
          ]
        }
      ]
    },
    {
      "cell_type": "markdown",
      "source": [
        "## Question4\n",
        "\n",
        "Write a function, that replaces all vowels in a string with a specified vowel.\n",
        "\n",
        "Examples\n",
        "```\n",
        "vow_replace(\"apples and bananas\", \"u\") ➞ \"upplus und bununus\"\n",
        "\n",
        "vow_replace(\"cheese casserole\", \"o\") ➞ \"chooso cossorolo\"\n",
        "\n",
        "vow_replace(\"stuffed jalapeno poppers\", \"e\") ➞ \"steffed jelepene peppers\"\n",
        "```\n",
        "Notes\n",
        "- All words will be lowercase. Y is not considered a vowel.\n"
      ],
      "metadata": {
        "id": "-Cz1vNEnotOR"
      }
    },
    {
      "cell_type": "code",
      "source": [
        "def vow_replace(word, vowel):\n",
        "    vowels = 'aeiou'\n",
        "    new_word = ''\n",
        "    for letter in word:\n",
        "        if letter in vowels:\n",
        "            new_word += vowel\n",
        "        else:\n",
        "            new_word += letter\n",
        "    return new_word\n",
        "\n",
        "print(vow_replace(\"apples and bananas\", \"u\"))"
      ],
      "metadata": {
        "colab": {
          "base_uri": "https://localhost:8080/"
        },
        "id": "6cJgtMywowiV",
        "outputId": "5a720c86-cc89-42f4-ec4b-03f94e7fa4f2"
      },
      "execution_count": 4,
      "outputs": [
        {
          "output_type": "stream",
          "name": "stdout",
          "text": [
            "upplus und bununus\n"
          ]
        }
      ]
    },
    {
      "cell_type": "markdown",
      "source": [
        "## Question5\n",
        "\n",
        "Create a function that takes a string as input and capitalizes a letter if its ASCII code is even and returns its lower case version if its ASCII code is odd.\n",
        "\n",
        "Examples\n",
        "```\n",
        "ascii_capitalize(\"to be or not to be!\") ➞ \"To Be oR NoT To Be!\"\n",
        "\n",
        "ascii_capitalize(\"THE LITTLE MERMAID\") ➞ \"THe LiTTLe meRmaiD\"\n",
        "\n",
        "ascii_capitalize(\"Oh what a beautiful morning.\") ➞ \"oH wHaT a BeauTiFuL moRNiNg.\"\n",
        "```\n"
      ],
      "metadata": {
        "id": "WnrXiZxQo7vG"
      }
    },
    {
      "cell_type": "code",
      "source": [
        "def ascii_capitalize(txt):\n",
        "    result = \"\"\n",
        "    for char in txt:\n",
        "        if ord(char) % 2 == 0:\n",
        "            result += char.upper()\n",
        "        else:\n",
        "            result += char.lower()\n",
        "    return result\n",
        "\n",
        "\n",
        "print(ascii_capitalize(\"to be or not to be!\"))\n",
        "print(ascii_capitalize(\"THE LITTLE MERMAID\"))\n",
        "print(ascii_capitalize(\"Oh what a beautiful morning.\"))"
      ],
      "metadata": {
        "colab": {
          "base_uri": "https://localhost:8080/"
        },
        "id": "sO7GwA6So-SJ",
        "outputId": "9cad1e54-b735-440f-ac17-7b440d5c0b0b"
      },
      "execution_count": 6,
      "outputs": [
        {
          "output_type": "stream",
          "name": "stdout",
          "text": [
            "To Be oR NoT To Be!\n",
            "THe LiTTLe meRmaiD\n",
            "oH wHaT a BeauTiFuL moRNiNg.\n"
          ]
        }
      ]
    }
  ]
}