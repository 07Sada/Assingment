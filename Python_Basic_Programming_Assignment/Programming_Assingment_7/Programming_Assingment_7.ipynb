{
 "cells": [
  {
   "cell_type": "code",
   "execution_count": 1,
   "metadata": {},
   "outputs": [
    {
     "name": "stdout",
     "output_type": "stream",
     "text": [
      "Sum of the array:  15\n"
     ]
    }
   ],
   "source": [
    "# 1.\tWrite a Python Program to find sum of array?\n",
    "import numpy as np\n",
    "\n",
    "numbers = np.array([1, 2, 3, 4, 5])\n",
    "print(\"Sum of the array: \",np.sum(numbers))\n"
   ]
  },
  {
   "cell_type": "code",
   "execution_count": 3,
   "metadata": {},
   "outputs": [
    {
     "name": "stdout",
     "output_type": "stream",
     "text": [
      "Largest element in the array:  10\n"
     ]
    }
   ],
   "source": [
    "# 2.\tWrite a Python Program to find largest element in an array?\n",
    "import numpy as np\n",
    "\n",
    "numbers = np.array([1, 5, 2, 8, 3, 10])\n",
    "print(\"Largest element in the array: \",np.amax(numbers))\n",
    "\n"
   ]
  },
  {
   "cell_type": "code",
   "execution_count": 5,
   "metadata": {},
   "outputs": [
    {
     "name": "stdout",
     "output_type": "stream",
     "text": [
      "Original array:  [1, 2, 3, 4, 5, 6]\n",
      "Array after rotation:  [5, 6, 1, 2, 3, 4]\n"
     ]
    }
   ],
   "source": [
    "# 3.\tWrite a Python Program for array rotation?\n",
    "def rotate_array(arr, k):\n",
    "    k = k % len(arr)\n",
    "    return arr[-k:] + arr[:-k]\n",
    "\n",
    "numbers = [1, 2, 3, 4, 5, 6]\n",
    "k = int(input(\"Enter number of positions to rotate: \"))\n",
    "print(\"Original array: \",numbers)\n",
    "print(\"Array after rotation: \", rotate_array(numbers, k))\n"
   ]
  },
  {
   "cell_type": "code",
   "execution_count": 6,
   "metadata": {},
   "outputs": [
    {
     "name": "stdout",
     "output_type": "stream",
     "text": [
      "Original array:  [1, 2, 3, 4, 5, 6]\n",
      "Array after splitting and adding first part to the end:  [6, 1, 2, 3, 4, 5]\n"
     ]
    }
   ],
   "source": [
    "# 4.\tWrite a Python Program to Split the array and add the first part to the end?\n",
    "def split_array(arr, k):\n",
    "    return arr[k:] + arr[:k]\n",
    "\n",
    "numbers = [1, 2, 3, 4, 5, 6]\n",
    "k = int(input(\"Enter the number of elements to split: \"))\n",
    "print(\"Original array: \", numbers)\n",
    "print(\"Array after splitting and adding first part to the end: \", split_array(numbers, k))\n"
   ]
  },
  {
   "cell_type": "code",
   "execution_count": 7,
   "metadata": {},
   "outputs": [
    {
     "name": "stdout",
     "output_type": "stream",
     "text": [
      "Original array:  [1, 2, 3, 4, 5, 6]\n",
      "Is array monotonic:  True\n"
     ]
    }
   ],
   "source": [
    "def is_monotonic(arr):\n",
    "    if len(arr) <= 1:\n",
    "        return True\n",
    "\n",
    "    direction = arr[1] - arr[0]\n",
    "    for i in range(2, len(arr)):\n",
    "        if direction == 0:\n",
    "            direction = arr[i] - arr[i - 1]\n",
    "            continue\n",
    "        if (direction > 0) != (arr[i] - arr[i - 1] > 0):\n",
    "            return False\n",
    "    return True\n",
    "\n",
    "numbers = [1, 2, 3, 4, 5, 6]\n",
    "print(\"Original array: \", numbers)\n",
    "print(\"Is array monotonic: \", is_monotonic(numbers))"
   ]
  }
 ],
 "metadata": {
  "kernelspec": {
   "display_name": "Python 3.8.10 64-bit",
   "language": "python",
   "name": "python3"
  },
  "language_info": {
   "codemirror_mode": {
    "name": "ipython",
    "version": 3
   },
   "file_extension": ".py",
   "mimetype": "text/x-python",
   "name": "python",
   "nbconvert_exporter": "python",
   "pygments_lexer": "ipython3",
   "version": "3.8.10"
  },
  "orig_nbformat": 4,
  "vscode": {
   "interpreter": {
    "hash": "e7370f93d1d0cde622a1f8e1c04877d8463912d04d973331ad4851f04de6915a"
   }
  }
 },
 "nbformat": 4,
 "nbformat_minor": 2
}
