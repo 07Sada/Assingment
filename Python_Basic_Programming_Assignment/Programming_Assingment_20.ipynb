{
  "nbformat": 4,
  "nbformat_minor": 0,
  "metadata": {
    "colab": {
      "provenance": []
    },
    "kernelspec": {
      "name": "python3",
      "display_name": "Python 3"
    },
    "language_info": {
      "name": "python"
    }
  },
  "cells": [
    {
      "cell_type": "markdown",
      "source": [
        "## Question1\n",
        "\n",
        "Create a function that takes a list of strings and integers, and filters out the list so that it returns a list of integers only.\n",
        "\n",
        "Examples\n",
        "```\n",
        "filter_list([1, 2, 3, \"a\", \"b\", 4]) ➞ [1, 2, 3, 4]\n",
        "\n",
        "filter_list([\"A\", 0, \"Edabit\", 1729, \"Python\", \"1729\"]) ➞ [0, 1729]\n",
        "\n",
        "filter_list([\"Nothing\", \"here\"]) ➞ []\n",
        "```\n"
      ],
      "metadata": {
        "id": "oAzBgQWce2s_"
      }
    },
    {
      "cell_type": "code",
      "execution_count": 1,
      "metadata": {
        "colab": {
          "base_uri": "https://localhost:8080/"
        },
        "id": "ZbR8tu3hethS",
        "outputId": "0742a774-49b4-4155-e612-b6725cf31895"
      },
      "outputs": [
        {
          "output_type": "stream",
          "name": "stdout",
          "text": [
            "[1, 2, 3, 4]\n",
            "[0, 1729]\n",
            "[]\n"
          ]
        }
      ],
      "source": [
        "def filter_list(lst):\n",
        "    # create an empty list to store the integers\n",
        "    integers = []\n",
        "    \n",
        "    # iterate over each element in the list\n",
        "    for elem in lst:\n",
        "        # check if the element is an integer\n",
        "        if isinstance(elem, int):\n",
        "            # append the integer to the new list\n",
        "            integers.append(elem)\n",
        "    \n",
        "    # return the new list containing only integers\n",
        "    return integers\n",
        "\n",
        "\n",
        "print(filter_list([1, 2, 3, \"a\", \"b\", 4]))\n",
        "# Output: [1, 2, 3, 4]\n",
        "\n",
        "print(filter_list([\"A\", 0, \"Edabit\", 1729, \"Python\", \"1729\"]))\n",
        "# Output: [0, 1729]\n",
        "\n",
        "print(filter_list([\"Nothing\", \"here\"]))\n",
        "# Output: []"
      ]
    },
    {
      "cell_type": "markdown",
      "source": [
        "## Question2\n",
        "\n",
        "Given a list of numbers, create a function which returns the list but with each element's index in the list added to itself. This means you add 0 to the number at index 0, add 1 to the number at index 1, etc...\n",
        "\n",
        "Examples\n",
        "```\n",
        "add_indexes([0, 0, 0, 0, 0]) ➞ [0, 1, 2, 3, 4]\n",
        "\n",
        "add_indexes([1, 2, 3, 4, 5]) ➞ [1, 3, 5, 7, 9]\n",
        "\n",
        "add_indexes([5, 4, 3, 2, 1]) ➞ [5, 5, 5, 5, 5]\n",
        "```"
      ],
      "metadata": {
        "id": "xFV1EwE5fBSh"
      }
    },
    {
      "cell_type": "markdown",
      "source": [
        "## Question3\n",
        "\n",
        "Create a function that takes the height and radius of a cone as arguments and returns the volume of the cone rounded to the nearest hundredth. See the resources tab for the formula.\n",
        "\n",
        "Examples\n",
        "```\n",
        "cone_volume(3, 2) ➞ 12.57\n",
        "\n",
        "cone_volume(15, 6) ➞ 565.49\n",
        "\n",
        "cone_volume(18, 0) ➞ 0\n",
        "```"
      ],
      "metadata": {
        "id": "al8wxfDWfLfP"
      }
    },
    {
      "cell_type": "code",
      "source": [
        "import math\n",
        "\n",
        "def cone_volume(h, r):\n",
        "    if r <= 0:\n",
        "        return 0\n",
        "    else:\n",
        "        volume = (1/3) * math.pi * r**2 * h\n",
        "        return round(volume, 2)\n",
        "\n",
        "print(cone_volume(3, 2)) # Output: 12.57\n",
        "print(cone_volume(15, 6)) # Output: 565.49\n",
        "print(cone_volume(18, 0)) # Output: 0"
      ],
      "metadata": {
        "colab": {
          "base_uri": "https://localhost:8080/"
        },
        "id": "qtFhSd_EfD0Z",
        "outputId": "c6b0e33e-6964-4cb5-90e3-538930727e13"
      },
      "execution_count": 2,
      "outputs": [
        {
          "output_type": "stream",
          "name": "stdout",
          "text": [
            "12.57\n",
            "565.49\n",
            "0\n"
          ]
        }
      ]
    },
    {
      "cell_type": "markdown",
      "source": [
        "## Question4\n",
        "\n",
        "This Triangular Number Sequence is generated from a pattern of dots that form a triangle. The first 5 numbers of the sequence, or dots, are: \n",
        "1, 3, 6, 10, 15\n",
        "\n",
        "This means that the first triangle has just one dot, the second one has three dots, the third one has 6 dots and so on.\n",
        "Write a function that gives the number of dots with its corresponding triangle number of the sequence.\n",
        "\n",
        "Examples\n",
        "```\n",
        "triangle(1) ➞ 1\n",
        "\n",
        "triangle(6) ➞ 21\n",
        "\n",
        "triangle(215) ➞ 23220\n",
        "```"
      ],
      "metadata": {
        "id": "q2FhEqWofkAz"
      }
    },
    {
      "cell_type": "code",
      "source": [
        "import math\n",
        "\n",
        "def triangle(n):\n",
        "    return int((n * (n + 1)) / 2)\n",
        "\n",
        "print(triangle(1))    # Output: 1\n",
        "print(triangle(6))    # Output: 21\n",
        "print(triangle(215))  # Output: 23220"
      ],
      "metadata": {
        "colab": {
          "base_uri": "https://localhost:8080/"
        },
        "id": "XnFZCvAlfo62",
        "outputId": "80258007-8b4c-461f-cb62-c0c183d19b73"
      },
      "execution_count": 8,
      "outputs": [
        {
          "output_type": "stream",
          "name": "stdout",
          "text": [
            "1\n",
            "21\n",
            "23220\n"
          ]
        }
      ]
    },
    {
      "cell_type": "markdown",
      "source": [
        "## Question5\n",
        "\n",
        "Create a function that takes a list of numbers between 1 and 10 (excluding one number) and returns the missing number.\n",
        "\n",
        "Examples\n",
        "```\n",
        "missing_num([1, 2, 3, 4, 6, 7, 8, 9, 10]) ➞ 5\n",
        "\n",
        "missing_num([7, 2, 3, 6, 5, 9, 1, 4, 8]) ➞ 10\n",
        "\n",
        "missing_num([10, 5, 1, 2, 4, 6, 8, 3, 9]) ➞ 7\n",
        "```"
      ],
      "metadata": {
        "id": "4Dwd18UggVYZ"
      }
    },
    {
      "cell_type": "code",
      "source": [
        "def missing_num(lst):\n",
        "    return sum(range(1, 11)) - sum(lst)\n",
        "\n",
        "print(missing_num([1, 2, 3, 4, 6, 7, 8, 9, 10]))\n",
        "print(missing_num([7, 2, 3, 6, 5, 9, 1, 4, 8]))\n",
        "print(missing_num([10, 5, 1, 2, 4, 6, 8, 3, 9]))"
      ],
      "metadata": {
        "colab": {
          "base_uri": "https://localhost:8080/"
        },
        "id": "yZIkW42HgXpy",
        "outputId": "c4f66ca7-1a30-460f-cfc3-5c3c76dbf644"
      },
      "execution_count": 10,
      "outputs": [
        {
          "output_type": "stream",
          "name": "stdout",
          "text": [
            "5\n",
            "10\n",
            "7\n"
          ]
        }
      ]
    },
    {
      "cell_type": "code",
      "source": [],
      "metadata": {
        "id": "HSZZQN8BgrS3"
      },
      "execution_count": null,
      "outputs": []
    }
  ]
}