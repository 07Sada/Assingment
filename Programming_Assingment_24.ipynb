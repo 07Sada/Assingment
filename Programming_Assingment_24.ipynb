{
  "nbformat": 4,
  "nbformat_minor": 0,
  "metadata": {
    "colab": {
      "provenance": []
    },
    "kernelspec": {
      "name": "python3",
      "display_name": "Python 3"
    },
    "language_info": {
      "name": "python"
    }
  },
  "cells": [
    {
      "cell_type": "markdown",
      "source": [
        "## Question1\n",
        "Create a function that takes an integer and returns a list from 1 to the given number, where:\n",
        "1.\tIf the number can be divided evenly by 4, amplify it by 10 (i.e. return 10 times the number).\n",
        "2.\tIf the number cannot be divided evenly by 4, simply return the number.\n",
        "\n",
        "Examples\n",
        "```\n",
        "amplify(4) ➞ [1, 2, 3, 40]\n",
        "\n",
        "amplify(3) ➞ [1, 2, 3]\n",
        "\n",
        "amplify(25) ➞ [1, 2, 3, 40, 5, 6, 7, 80, 9, 10, 11, 120, 13, 14, 15, 160, 17, 18, 19, 200, 21, 22, 23, 240, 25]\n",
        "```\n",
        "Notes\n",
        "- The given integer will always be equal to or greater than 1.\n",
        "-\tInclude the number (see example above).\n",
        "-\tTo perform this problem with its intended purpose, try doing it with list comprehensions. If that's too difficult, just solve the challenge any way you can.\n"
      ],
      "metadata": {
        "id": "_V3ChAvDmNcE"
      }
    },
    {
      "cell_type": "code",
      "execution_count": 1,
      "metadata": {
        "colab": {
          "base_uri": "https://localhost:8080/"
        },
        "id": "lVa0O7ZCmBZG",
        "outputId": "725a9713-cdef-4661-8376-7fa51c656945"
      },
      "outputs": [
        {
          "output_type": "stream",
          "name": "stdout",
          "text": [
            "[1, 2, 3, 40]\n",
            "[1, 2, 3]\n",
            "[1, 2, 3, 40, 5, 6, 7, 80, 9, 10, 11, 120, 13, 14, 15, 160, 17, 18, 19, 200, 21, 22, 23, 240, 25]\n"
          ]
        }
      ],
      "source": [
        "def amplify(num):\n",
        "    return [i*10 if i % 4 == 0 else i for i in range(1, num+1)]\n",
        "\n",
        "print(amplify(4))   # [1, 2, 3, 40]\n",
        "print(amplify(3))   # [1, 2, 3]\n",
        "print(amplify(25))  # [1, 2, 3, 40, 5, 6, 7, 80, 9, 10, 11, 120, 13, 14, 15, 160, 17, 18, 19, 200, 21, 22, 23, 240, 25]"
      ]
    },
    {
      "cell_type": "markdown",
      "source": [
        "## Question2\n",
        "\n",
        "Create a function that takes a list of numbers and return the number that's unique.\n",
        "\n",
        "Examples\n",
        "```\n",
        "unique([3, 3, 3, 7, 3, 3]) ➞ 7\n",
        "\n",
        "unique([0, 0, 0.77, 0, 0]) ➞ 0.77\n",
        "\n",
        "unique([0, 1, 1, 1, 1, 1, 1, 1]) ➞ 0\n",
        "```\n",
        "Notes\n",
        "\n",
        "Test cases will always have exactly one unique number while all others are the same.\n"
      ],
      "metadata": {
        "id": "pnVrswYcmbaa"
      }
    },
    {
      "cell_type": "code",
      "source": [
        "from collections import Counter\n",
        "\n",
        "def unique(lst):\n",
        "    counts = Counter(lst)\n",
        "    for num, count in counts.items():\n",
        "        if count == 1:\n",
        "            return num\n",
        "\n",
        "print(unique([3, 3, 3, 7, 3, 3]))  # Output: 7\n",
        "print(unique([0, 0, 0.77, 0, 0]))  # Output: 0.77\n",
        "print(unique([0, 1, 1, 1, 1, 1, 1, 1]))  # Output: 0\n"
      ],
      "metadata": {
        "colab": {
          "base_uri": "https://localhost:8080/"
        },
        "id": "jIkMV9g5meMz",
        "outputId": "02f7662d-ee3d-41cf-da69-54ce8adc797f"
      },
      "execution_count": 2,
      "outputs": [
        {
          "output_type": "stream",
          "name": "stdout",
          "text": [
            "7\n",
            "0.77\n",
            "0\n"
          ]
        }
      ]
    },
    {
      "cell_type": "markdown",
      "source": [
        "## Question3\n",
        "Your task is to create a Circle constructor that creates a circle with a radius provided by an argument. The circles constructed must have two getters getArea() (PIr^2) and getPerimeter() (2PI*r) which give both respective areas and perimeter (circumference).\n",
        "\n",
        "For help with this class, I have provided you with a Rectangle constructor which you can use as a base example.\n",
        "Examples\n",
        "```\n",
        "circy = Circle(11)\n",
        "circy.getArea()\n",
        "\n",
        "# Should return 380.132711084365\n",
        "\n",
        "circy = Circle(4.44)\n",
        "circy.getPerimeter()\n",
        "\n",
        "# Should return 27.897342763877365\n",
        "```\n",
        "Notes\n",
        "- Round results up to the nearest integer.\n"
      ],
      "metadata": {
        "id": "vuewvHXQmoI0"
      }
    },
    {
      "cell_type": "code",
      "source": [
        "import math\n",
        "\n",
        "class Circle:\n",
        "    def __init__(self, radius):\n",
        "        self.radius = radius\n",
        "    \n",
        "    def getArea(self):\n",
        "        return math.ceil(math.pi * self.radius ** 2)\n",
        "    \n",
        "    def getPerimeter(self):\n",
        "        return math.ceil(2 * math.pi * self.radius)\n",
        "\n",
        "circy = Circle(11)\n",
        "print(circy.getArea())  # Output: 380\n",
        "\n",
        "circy = Circle(4.44)\n",
        "print(circy.getPerimeter())  # Output: 28\n"
      ],
      "metadata": {
        "colab": {
          "base_uri": "https://localhost:8080/"
        },
        "id": "H8q9U0ibmtm5",
        "outputId": "cd40059a-bd37-4cd8-9cc6-ca52fdf6ba21"
      },
      "execution_count": 6,
      "outputs": [
        {
          "output_type": "stream",
          "name": "stdout",
          "text": [
            "381\n",
            "28\n"
          ]
        }
      ]
    },
    {
      "cell_type": "markdown",
      "source": [
        "## Question4\n",
        "\n",
        "Create a function that takes a list of strings and return a list, sorted from shortest to longest.\n",
        "\n",
        "Examples\n",
        "```\n",
        "sort_by_length([\"Google\", \"Apple\", \"Microsoft\"])\n",
        "➞ [\"Apple\", \"Google\", \"Microsoft\"]\n",
        "\n",
        "sort_by_length([\"Leonardo\", \"Michelangelo\", \"Raphael\", \"Donatello\"])\n",
        "➞ [\"Raphael\", \"Leonardo\", \"Donatello\", \"Michelangelo\"]\n",
        "\n",
        "sort_by_length([\"Turing\", \"Einstein\", \"Jung\"])\n",
        "➞ [\"Jung\", \"Turing\", \"Einstein\"]\n",
        "```\n",
        "Notes\n",
        "- All test cases contain lists with strings of different lengths, so you won't have to deal with multiple strings of the same length.\n"
      ],
      "metadata": {
        "id": "qmbdHXkjnLDr"
      }
    },
    {
      "cell_type": "code",
      "source": [
        "def sort_by_length(lst):\n",
        "    return sorted(lst, key=len)\n",
        "\n",
        "sort_by_length([\"Google\", \"Apple\", \"Microsoft\"])"
      ],
      "metadata": {
        "colab": {
          "base_uri": "https://localhost:8080/"
        },
        "id": "B7DRkCDhnPDY",
        "outputId": "bf200c89-78fc-4bc9-dd36-665c94d62008"
      },
      "execution_count": 7,
      "outputs": [
        {
          "output_type": "execute_result",
          "data": {
            "text/plain": [
              "['Apple', 'Google', 'Microsoft']"
            ]
          },
          "metadata": {},
          "execution_count": 7
        }
      ]
    },
    {
      "cell_type": "markdown",
      "source": [
        "## Question5\n",
        "\n",
        "Create a function that validates whether three given integers form a Pythagorean triplet. The sum of the squares of the two smallest integers must equal the square of the largest number to be validated.\n",
        "\n",
        "\n",
        "Examples\n",
        "```\n",
        "is_triplet(3, 4, 5) ➞ True\n",
        "# 3² + 4² = 25\n",
        "# 5² = 25\n",
        "\n",
        "is_triplet(13, 5, 12) ➞ True\n",
        "# 5² + 12² = 169\n",
        "# 13² = 169\n",
        "\n",
        "is_triplet(1, 2, 3) ➞ False\n",
        "# 1² + 2² = 5\n",
        "# 3² = 9\n",
        "```\n",
        "Notes\n",
        "- Numbers may not be given in a sorted order.\n"
      ],
      "metadata": {
        "id": "libwP53YnYM5"
      }
    },
    {
      "cell_type": "code",
      "source": [
        "def is_triplet(n1, n2, n3):\n",
        "    # Sort the given integers\n",
        "    nums = sorted([n1, n2, n3])\n",
        "    # Check if the sum of squares of two smallest integers is equal to the square of the largest integer\n",
        "    return nums[0]**2 + nums[1]**2 == nums[2]**2\n",
        "\n",
        "print(is_triplet(3, 4, 5))   # True\n",
        "print(is_triplet(13, 5, 12)) # True\n",
        "print(is_triplet(1, 2, 3))   # False\n"
      ],
      "metadata": {
        "colab": {
          "base_uri": "https://localhost:8080/"
        },
        "id": "ABiScy4WnbRq",
        "outputId": "e74fa4f7-0597-4520-b406-a79e8a788756"
      },
      "execution_count": 8,
      "outputs": [
        {
          "output_type": "stream",
          "name": "stdout",
          "text": [
            "True\n",
            "True\n",
            "False\n"
          ]
        }
      ]
    }
  ]
}